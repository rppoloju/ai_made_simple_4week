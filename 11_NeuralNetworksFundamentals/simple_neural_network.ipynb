{
 "cells": [
  {
   "cell_type": "markdown",
   "id": "920a4f63-7256-440c-a036-3c07a7cd1b85",
   "metadata": {},
   "source": [
    "# A Retail Case Study : Predicting Customer Purchases with Neural Networks\n",
    "\n",
    "### Problem Statement\n",
    "A retail store aims to predict whether a customer will make a purchase based on their age, annual income, time spent on the website, and loyalty program status. \n",
    "\n",
    "The objective is to build a neural network using PyTorch to classify customers as \"Will Purchase\" (1) or \"Will Not Purchase\" (0) to enhance targeted marketing strategies.\n",
    "\n",
    "### Dataset\n",
    "\n",
    "The dataset is a synthetic collection of customer data with the following columns:\n",
    "\n",
    "Age: Customer's age (18-70 years)\n",
    "\n",
    "Annual_Income: Annual income in thousands (20-150)\n",
    "\n",
    "Time_On_Website: Minutes spent on the website per session (5-60)\n",
    "\n",
    "Loyalty_Member: 1 if in loyalty program, 0 otherwise\n",
    "\n",
    "Purchased: Target variable (1 for purchase, 0 for no purchase)\n"
   ]
  },
  {
   "cell_type": "code",
   "execution_count": 25,
   "id": "f927baf0-1217-4c61-a2e5-6f28c39ccdb9",
   "metadata": {},
   "outputs": [],
   "source": [
    "import pandas as pd\n",
    "import numpy as np\n",
    "from sklearn.model_selection import train_test_split\n",
    "from sklearn.preprocessing import StandardScaler\n",
    "from tensorflow.keras.models import Sequential\n",
    "from tensorflow.keras.layers import Dense\n",
    "from tensorflow.keras.optimizers import Adam"
   ]
  },
  {
   "cell_type": "code",
   "execution_count": 26,
   "id": "aafbe726-940e-4ba2-a581-eb9f0569e77f",
   "metadata": {},
   "outputs": [],
   "source": [
    "# Load dataset\n",
    "data = pd.read_csv('customer_purchase_data.csv')"
   ]
  },
  {
   "cell_type": "code",
   "execution_count": 27,
   "id": "77b6ea6f-4e2e-4e1f-97d3-ca4e27b81a92",
   "metadata": {},
   "outputs": [],
   "source": [
    "# Features and target\n",
    "X = data[['Age', 'Annual_Income', 'Time_On_Website', 'Loyalty_Member']].values\n",
    "y = data['Purchased'].values"
   ]
  },
  {
   "cell_type": "code",
   "execution_count": 28,
   "id": "154b2270-0358-4934-97e9-189ab930a5b5",
   "metadata": {},
   "outputs": [],
   "source": [
    "# Standardize numerical features\n",
    "scaler = StandardScaler()\n",
    "X[:, :3] = scaler.fit_transform(X[:, :3])  # Scale Age, Annual_Income, Time_On_Website"
   ]
  },
  {
   "cell_type": "code",
   "execution_count": 29,
   "id": "31279f6f-2c07-47f4-9e7e-afae592c8697",
   "metadata": {},
   "outputs": [],
   "source": [
    "# Split data\n",
    "X_train, X_test, y_train, y_test = train_test_split(X, y, test_size=0.2, random_state=42)"
   ]
  },
  {
   "cell_type": "code",
   "execution_count": 30,
   "id": "d621ffc9-330e-43d0-9e61-a4b6a176f4cf",
   "metadata": {},
   "outputs": [],
   "source": [
    "# Build neural network\n",
    "model = Sequential([\n",
    "    Dense(16, activation='relu', input_shape=(4,)),  # Hidden layer 1\n",
    "    Dense(8, activation='relu'),                    # Hidden layer 2\n",
    "    Dense(1, activation='sigmoid')                 # Output layer\n",
    "])"
   ]
  },
  {
   "cell_type": "markdown",
   "id": "a34da23e-4a45-4a82-894f-1c9dbb9cec6e",
   "metadata": {},
   "source": [
    "### Explanation\n",
    "1.   Dense(16, activation='relu', input_shape=(4,)) - Adds a fully connected layer with 16 neurons, ReLU activation, and an input shape of 4.\n",
    "2.  Dense(8, activation='relu') - Adds a second hidden layer with 8 neurons and ReLU activation.\n",
    "3.  Dense(1, activation='sigmoid')  - Adds the output layer with 1 neuron and sigmoid activation."
   ]
  },
  {
   "cell_type": "code",
   "execution_count": 31,
   "id": "86923c36-c053-4199-9d99-b092972d30f8",
   "metadata": {},
   "outputs": [],
   "source": [
    "# Compile model\n",
    "model.compile(optimizer=Adam(learning_rate=0.001), loss='binary_crossentropy', metrics=['accuracy'])"
   ]
  },
  {
   "cell_type": "markdown",
   "id": "6338f544-6e84-4efb-802e-aa1eb1e23d9a",
   "metadata": {},
   "source": [
    "### Explanation\n",
    "1. optimizer=Adam(learning_rate=0.001): Uses the Adam optimizer with a learning rate of 0.001, an advanced gradient descent method\n",
    "2. loss='binary_crossentropy': Sets binary cross-entropy as the loss function, suitable for binary classification\n",
    "3. metrics=['accuracy']: Tracks accuracy during training and evaluation"
   ]
  },
  {
   "cell_type": "code",
   "execution_count": 32,
   "id": "02685869-7ab3-426b-ab72-d4e6e48d33e0",
   "metadata": {},
   "outputs": [
    {
     "name": "stdout",
     "output_type": "stream",
     "text": [
      "Epoch 1/50\n",
      "1/1 [==============================] - 1s 1s/step - loss: 0.7024 - accuracy: 0.3750\n",
      "Epoch 2/50\n",
      "1/1 [==============================] - 0s 1ms/step - loss: 0.7011 - accuracy: 0.3750\n",
      "Epoch 3/50\n",
      "1/1 [==============================] - 0s 9ms/step - loss: 0.6999 - accuracy: 0.3750\n",
      "Epoch 4/50\n",
      "1/1 [==============================] - 0s 11ms/step - loss: 0.6986 - accuracy: 0.3750\n",
      "Epoch 5/50\n",
      "1/1 [==============================] - 0s 2ms/step - loss: 0.6974 - accuracy: 0.3750\n",
      "Epoch 6/50\n",
      "1/1 [==============================] - 0s 7ms/step - loss: 0.6964 - accuracy: 0.3750\n",
      "Epoch 7/50\n",
      "1/1 [==============================] - 0s 10ms/step - loss: 0.6955 - accuracy: 0.3750\n",
      "Epoch 8/50\n",
      "1/1 [==============================] - 0s 7ms/step - loss: 0.6945 - accuracy: 0.3750\n",
      "Epoch 9/50\n",
      "1/1 [==============================] - 0s 7ms/step - loss: 0.6935 - accuracy: 0.5000\n",
      "Epoch 10/50\n",
      "1/1 [==============================] - 0s 13ms/step - loss: 0.6925 - accuracy: 0.5000\n",
      "Epoch 11/50\n",
      "1/1 [==============================] - 0s 0s/step - loss: 0.6915 - accuracy: 0.5000\n",
      "Epoch 12/50\n",
      "1/1 [==============================] - 0s 17ms/step - loss: 0.6905 - accuracy: 0.5000\n",
      "Epoch 13/50\n",
      "1/1 [==============================] - 0s 13ms/step - loss: 0.6895 - accuracy: 0.5000\n",
      "Epoch 14/50\n",
      "1/1 [==============================] - 0s 0s/step - loss: 0.6886 - accuracy: 0.5000\n",
      "Epoch 15/50\n",
      "1/1 [==============================] - 0s 8ms/step - loss: 0.6876 - accuracy: 0.5000\n",
      "Epoch 16/50\n",
      "1/1 [==============================] - 0s 8ms/step - loss: 0.6866 - accuracy: 0.5000\n",
      "Epoch 17/50\n",
      "1/1 [==============================] - 0s 11ms/step - loss: 0.6857 - accuracy: 0.5000\n",
      "Epoch 18/50\n",
      "1/1 [==============================] - 0s 14ms/step - loss: 0.6847 - accuracy: 0.6250\n",
      "Epoch 19/50\n",
      "1/1 [==============================] - 0s 8ms/step - loss: 0.6837 - accuracy: 0.6250\n",
      "Epoch 20/50\n",
      "1/1 [==============================] - 0s 7ms/step - loss: 0.6827 - accuracy: 0.6250\n",
      "Epoch 21/50\n",
      "1/1 [==============================] - 0s 14ms/step - loss: 0.6818 - accuracy: 0.6250\n",
      "Epoch 22/50\n",
      "1/1 [==============================] - 0s 10ms/step - loss: 0.6808 - accuracy: 0.6250\n",
      "Epoch 23/50\n",
      "1/1 [==============================] - 0s 3ms/step - loss: 0.6798 - accuracy: 0.7500\n",
      "Epoch 24/50\n",
      "1/1 [==============================] - 0s 8ms/step - loss: 0.6789 - accuracy: 0.7500\n",
      "Epoch 25/50\n",
      "1/1 [==============================] - 0s 14ms/step - loss: 0.6779 - accuracy: 0.7500\n",
      "Epoch 26/50\n",
      "1/1 [==============================] - 0s 12ms/step - loss: 0.6769 - accuracy: 0.7500\n",
      "Epoch 27/50\n",
      "1/1 [==============================] - 0s 3ms/step - loss: 0.6759 - accuracy: 0.7500\n",
      "Epoch 28/50\n",
      "1/1 [==============================] - 0s 19ms/step - loss: 0.6749 - accuracy: 0.7500\n",
      "Epoch 29/50\n",
      "1/1 [==============================] - 0s 8ms/step - loss: 0.6739 - accuracy: 0.7500\n",
      "Epoch 30/50\n",
      "1/1 [==============================] - 0s 9ms/step - loss: 0.6729 - accuracy: 0.7500\n",
      "Epoch 31/50\n",
      "1/1 [==============================] - 0s 11ms/step - loss: 0.6719 - accuracy: 0.7500\n",
      "Epoch 32/50\n",
      "1/1 [==============================] - 0s 5ms/step - loss: 0.6709 - accuracy: 0.7500\n",
      "Epoch 33/50\n",
      "1/1 [==============================] - 0s 4ms/step - loss: 0.6699 - accuracy: 0.8750\n",
      "Epoch 34/50\n",
      "1/1 [==============================] - 0s 15ms/step - loss: 0.6689 - accuracy: 0.8750\n",
      "Epoch 35/50\n",
      "1/1 [==============================] - 0s 8ms/step - loss: 0.6679 - accuracy: 0.8750\n",
      "Epoch 36/50\n",
      "1/1 [==============================] - 0s 3ms/step - loss: 0.6669 - accuracy: 0.8750\n",
      "Epoch 37/50\n",
      "1/1 [==============================] - 0s 10ms/step - loss: 0.6658 - accuracy: 0.8750\n",
      "Epoch 38/50\n",
      "1/1 [==============================] - 0s 8ms/step - loss: 0.6647 - accuracy: 0.8750\n",
      "Epoch 39/50\n",
      "1/1 [==============================] - 0s 11ms/step - loss: 0.6637 - accuracy: 0.8750\n",
      "Epoch 40/50\n",
      "1/1 [==============================] - 0s 3ms/step - loss: 0.6626 - accuracy: 0.8750\n",
      "Epoch 41/50\n",
      "1/1 [==============================] - 0s 5ms/step - loss: 0.6615 - accuracy: 0.8750\n",
      "Epoch 42/50\n",
      "1/1 [==============================] - 0s 12ms/step - loss: 0.6604 - accuracy: 0.8750\n",
      "Epoch 43/50\n",
      "1/1 [==============================] - 0s 9ms/step - loss: 0.6593 - accuracy: 0.8750\n",
      "Epoch 44/50\n",
      "1/1 [==============================] - 0s 5ms/step - loss: 0.6583 - accuracy: 0.8750\n",
      "Epoch 45/50\n",
      "1/1 [==============================] - 0s 14ms/step - loss: 0.6573 - accuracy: 0.8750\n",
      "Epoch 46/50\n",
      "1/1 [==============================] - 0s 8ms/step - loss: 0.6563 - accuracy: 0.8750\n",
      "Epoch 47/50\n",
      "1/1 [==============================] - 0s 6ms/step - loss: 0.6553 - accuracy: 0.8750\n",
      "Epoch 48/50\n",
      "1/1 [==============================] - 0s 13ms/step - loss: 0.6543 - accuracy: 0.8750\n",
      "Epoch 49/50\n",
      "1/1 [==============================] - 0s 9ms/step - loss: 0.6533 - accuracy: 0.8750\n",
      "Epoch 50/50\n",
      "1/1 [==============================] - 0s 4ms/step - loss: 0.6523 - accuracy: 0.8750\n"
     ]
    },
    {
     "data": {
      "text/plain": [
       "<keras.src.callbacks.History at 0x210f7bebd00>"
      ]
     },
     "execution_count": 32,
     "metadata": {},
     "output_type": "execute_result"
    }
   ],
   "source": [
    "# Train model\n",
    "model.fit(X_train, y_train, epochs=50, batch_size=10, verbose=1)"
   ]
  },
  {
   "cell_type": "markdown",
   "id": "68176fb4-7717-4a46-ab22-8ae5cc7289e4",
   "metadata": {},
   "source": [
    "### Explanation\n",
    "1. X_train, y_train: Training features and labels.\n",
    "2. epochs=50: Runs 50 passes through the training data\n",
    "3. batch_size=10: Uses mini-batch gradient descent with 10 samples per batch\n",
    "4. verbose=1: Prints training progress (loss and accuracy per epoch)"
   ]
  },
  {
   "cell_type": "code",
   "execution_count": 33,
   "id": "81f5de52-ece1-490d-87ff-036287525cc3",
   "metadata": {},
   "outputs": [
    {
     "name": "stdout",
     "output_type": "stream",
     "text": [
      "Test Accuracy: 1.0000\n"
     ]
    }
   ],
   "source": [
    "# Evaluate model\n",
    "loss, accuracy = model.evaluate(X_test, y_test, verbose=0)\n",
    "print(f'Test Accuracy: {accuracy:.4f}')"
   ]
  },
  {
   "cell_type": "code",
   "execution_count": 34,
   "id": "685f2105-982b-4a78-b9b3-05997b395871",
   "metadata": {},
   "outputs": [
    {
     "name": "stdout",
     "output_type": "stream",
     "text": [
      "1/1 [==============================] - 0s 73ms/step\n",
      "Purchase Probability: 0.5208\n"
     ]
    }
   ],
   "source": [
    "# Example prediction\n",
    "sample = np.array([[40, 80, 30, 1]])  # Age=40, Income=80k, Time=30min, Loyalty=1\n",
    "sample[:, :3] = scaler.transform(sample[:, :3])  # Scale numerical features\n",
    "prediction = model.predict(sample)\n",
    "print(f'Purchase Probability: {prediction[0][0]:.4f}')"
   ]
  }
 ],
 "metadata": {
  "kernelspec": {
   "display_name": "Python 3 (ipykernel)",
   "language": "python",
   "name": "python3"
  },
  "language_info": {
   "codemirror_mode": {
    "name": "ipython",
    "version": 3
   },
   "file_extension": ".py",
   "mimetype": "text/x-python",
   "name": "python",
   "nbconvert_exporter": "python",
   "pygments_lexer": "ipython3",
   "version": "3.8.20"
  }
 },
 "nbformat": 4,
 "nbformat_minor": 5
}
